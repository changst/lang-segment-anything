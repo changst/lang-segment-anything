{
 "cells": [
  {
   "cell_type": "code",
   "execution_count": null,
   "metadata": {},
   "outputs": [],
   "source": [
    "import warnings\n",
    "import numpy as np\n",
    "import matplotlib.pyplot as plt\n",
    "import requests\n",
    "from PIL import Image\n",
    "from io import BytesIO\n",
    "from lang_sam import LangSAM\n",
    "import torch\n",
    "from torchvision.utils import draw_bounding_boxes\n",
    "from torchvision.utils import draw_segmentation_masks\n",
    "\n",
    "\n",
    "model = LangSAM()"
   ]
  },
  {
   "cell_type": "code",
   "execution_count": null,
   "metadata": {},
   "outputs": [],
   "source": [
    "image_pil = Image.open(\"./assets/elevator.jpg\").convert(\"RGB\")\n",
    "text_prompt = \"each button\"\n",
    "box_threshold = 0.3\n",
    "text_threshold = 0.25\n",
    "masks, boxes, phrases, logits = model.predict(image_pil, text_prompt, box_threshold=box_threshold, text_threshold=text_threshold)\n",
    "\n",
    "def draw_image(image, masks, boxes, labels, alpha=0.4):\n",
    "    image = torch.from_numpy(image).permute(2, 0, 1)\n",
    "    if len(boxes) > 0:\n",
    "        image = draw_bounding_boxes(image, boxes, colors=['red'] * len(boxes), labels=labels, width=5)\n",
    "    if len(masks) > 0:\n",
    "        image = draw_segmentation_masks(image, masks=masks, colors=['cyan'] * len(masks), alpha=alpha)\n",
    "    return image.numpy().transpose(1, 2, 0)\n",
    "\n",
    "# Draw the image with bounding boxes and masks\n",
    "image_with_boxes = draw_image(np.array(image_pil), masks, boxes, phrases)\n",
    "\n",
    "\n",
    "fig, axes = plt.subplots(1, 2, figsize=(15, 5))\n",
    "axes[0].imshow(image_pil)\n",
    "axes[0].set_title(\"Original Image\")\n",
    "axes[0].axis('off')\n",
    "\n",
    "axes[1].imshow(image_with_boxes)\n",
    "axes[1].set_title(\"BBoxes and Segmations\")\n",
    "axes[1].axis('off')\n",
    "plt.tight_layout()\n",
    "plt.show()\n",
    "\n",
    "print(len(boxes))\n"
   ]
  }
 ],
 "metadata": {
  "kernelspec": {
   "display_name": "lsa",
   "language": "python",
   "name": "python3"
  },
  "language_info": {
   "codemirror_mode": {
    "name": "ipython",
    "version": 3
   },
   "file_extension": ".py",
   "mimetype": "text/x-python",
   "name": "python",
   "nbconvert_exporter": "python",
   "pygments_lexer": "ipython3",
   "version": "3.9.18"
  }
 },
 "nbformat": 4,
 "nbformat_minor": 2
}
